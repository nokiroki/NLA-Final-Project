{
 "cells": [
  {
   "cell_type": "code",
   "execution_count": 70,
   "id": "56171cdd",
   "metadata": {},
   "outputs": [],
   "source": [
    "import random\n",
    "import pandas as pd\n",
    "import numpy as np\n",
    "\n",
    "import scipy.sparse as sparse\n",
    "from scipy.sparse.linalg import spsolve\n",
    "from sklearn.preprocessing import MinMaxScaler\n",
    "from tqdm import tqdm\n",
    "\n",
    "\n",
    "def implicit_als(sparse_data, alpha_val=40, iterations=10, lambda_val=0.1, features=10):\n",
    "    \"\"\" Implementation of Alternating Least Squares with implicit data. We iteratively\n",
    "    compute the user (x_u) and item (y_i) vectors using the following formulas:\n",
    " \n",
    "    x_u = ((Y.T*Y + Y.T*(Cu - I) * Y) + lambda*I)^-1 * (X.T * Cu * p(u))\n",
    "    y_i = ((X.T*X + X.T*(Ci - I) * X) + lambda*I)^-1 * (Y.T * Ci * p(i))\n",
    " \n",
    "    Args:\n",
    "        sparse_data (csr_matrix): Our sparse user-by-item matrix\n",
    " \n",
    "        alpha_val (int): The rate in which we'll increase our confidence\n",
    "        in a preference with more interactions.\n",
    " \n",
    "        iterations (int): How many times we alternate between fixing and \n",
    "        updating our user and item vectors\n",
    " \n",
    "        lambda_val (float): Regularization value\n",
    " \n",
    "        features (int): How many latent features we want to compute.\n",
    "    \n",
    "    Returns:     \n",
    "        X (csr_matrix): user vectors of size users-by-features\n",
    "        \n",
    "        Y (csr_matrix): item vectors of size items-by-features\n",
    "     \"\"\"\n",
    "\n",
    "    assert type(sparse_data) == sparse.csr_matrix, \"Matrix should be sparse in format of csr\"\n",
    "\n",
    "\n",
    "    # Calculate the foncidence for each value in our data\n",
    "    confidence = sparse_data * alpha_val\n",
    "    \n",
    "    # Get the size of user rows and item columns\n",
    "    user_size, item_size = sparse_data.shape\n",
    "    \n",
    "    # We create the user vectors X of size users-by-features, the item vectors\n",
    "    # Y of size items-by-features and randomly assign the values.\n",
    "    X = sparse.csr_matrix(np.random.normal(size = (user_size, features)))\n",
    "    Y = sparse.csr_matrix(np.random.normal(size = (item_size, features)))\n",
    "    \n",
    "    #Precompute I and lambda * I\n",
    "    X_I = sparse.eye(user_size)\n",
    "    Y_I = sparse.eye(item_size)\n",
    "    \n",
    "    I = sparse.eye(features)\n",
    "    lI = lambda_val * I\n",
    "    \n",
    "    for i in tqdm(range(iterations)):\n",
    "        \n",
    "        # Precompute Y-transpose-Y and X-transpose-X\n",
    "        yTy = Y.T @ Y\n",
    "        xTx = X.T @ X\n",
    "\n",
    "        # Loop through all users\n",
    "        for u in range(user_size):\n",
    "\n",
    "            # Get the user row.\n",
    "            u_row = confidence[u,:].toarray() \n",
    "\n",
    "            # Calculate the binary preference p(u)\n",
    "            p_u = u_row.copy()\n",
    "            p_u[p_u != 0] = 1.0\n",
    "\n",
    "            # Calculate Cu and Cu - I\n",
    "            CuI = sparse.diags(u_row, [0])\n",
    "            Cu = CuI + Y_I\n",
    "\n",
    "            # Put it all together and compute the final formula\n",
    "            yT_CuI_y = Y.T @ CuI @ Y\n",
    "            yT_Cu_pu = Y.T @ Cu @ p_u.T\n",
    "            X[u] = spsolve(yTy + yT_CuI_y + lI, yT_Cu_pu)\n",
    "\n",
    "    \n",
    "        for i in range(item_size):\n",
    "\n",
    "            # Get the item column and transpose it.\n",
    "            i_row = confidence[:,i].T.toarray()\n",
    "\n",
    "            # Calculate the binary preference p(i)\n",
    "            p_i = i_row.copy()\n",
    "            p_i[p_i != 0] = 1.0\n",
    "\n",
    "            # Calculate Ci and Ci - I\n",
    "            CiI = sparse.diags(i_row, [0])\n",
    "            Ci = CiI + X_I\n",
    "\n",
    "            # Put it all together and compute the final formula\n",
    "            xT_CiI_x = X.T @ CiI @ X\n",
    "            xT_Ci_pi = X.T @ Ci @ p_i.T\n",
    "            Y[i] = spsolve(xTx + xT_CiI_x + lI, xT_Ci_pi)\n",
    "\n",
    "    return X, Y"
   ]
  },
  {
   "cell_type": "code",
   "execution_count": 62,
   "id": "1e821be2",
   "metadata": {},
   "outputs": [
    {
     "name": "stdout",
     "output_type": "stream",
     "text": [
      " Volume in drive C is OS\n",
      " Volume Serial Number is C4B8-271E\n",
      "\n",
      " Directory of C:\\Users\\Andrey\\Desktop\\NLA\\Final\\NLA-Final-Project\\Final project\n",
      "\n",
      "16.12.2021  00:54    <DIR>          .\n",
      "16.12.2021  00:54    <DIR>          ..\n",
      "15.12.2021  23:16    <DIR>          .ipynb_checkpoints\n",
      "16.12.2021  00:54            12ÿ821 ALS.ipynb\n",
      "15.12.2021  16:33    <DIR>          ml-100k\n",
      "15.12.2021  16:33    <DIR>          ml-1m\n",
      "15.12.2021  16:43            19ÿ132 Test-file.ipynb\n",
      "15.12.2021  23:16             4ÿ468 Untitled.ipynb\n",
      "               3 File(s)         36ÿ421 bytes\n",
      "               5 Dir(s)  18ÿ055ÿ634ÿ944 bytes free\n"
     ]
    }
   ],
   "source": [
    "!dir"
   ]
  },
  {
   "cell_type": "code",
   "execution_count": 63,
   "id": "ac3a180e",
   "metadata": {},
   "outputs": [
    {
     "name": "stderr",
     "output_type": "stream",
     "text": [
      "C:\\Users\\Andrey\\AppData\\Roaming\\Python\\Python38\\site-packages\\pandas\\util\\_decorators.py:311: ParserWarning: Falling back to the 'python' engine because the 'c' engine does not support regex separators (separators > 1 char and different from '\\s+' are interpreted as regex); you can avoid this warning by specifying engine='python'.\n",
      "  return func(*args, **kwargs)\n"
     ]
    },
    {
     "data": {
      "text/html": [
       "<div>\n",
       "<style scoped>\n",
       "    .dataframe tbody tr th:only-of-type {\n",
       "        vertical-align: middle;\n",
       "    }\n",
       "\n",
       "    .dataframe tbody tr th {\n",
       "        vertical-align: top;\n",
       "    }\n",
       "\n",
       "    .dataframe thead th {\n",
       "        text-align: right;\n",
       "    }\n",
       "</style>\n",
       "<table border=\"1\" class=\"dataframe\">\n",
       "  <thead>\n",
       "    <tr style=\"text-align: right;\">\n",
       "      <th></th>\n",
       "      <th>user_id</th>\n",
       "      <th>movie_id</th>\n",
       "      <th>rating</th>\n",
       "      <th>timestamp</th>\n",
       "    </tr>\n",
       "  </thead>\n",
       "  <tbody>\n",
       "    <tr>\n",
       "      <th>0</th>\n",
       "      <td>1</td>\n",
       "      <td>1193</td>\n",
       "      <td>5</td>\n",
       "      <td>978300760</td>\n",
       "    </tr>\n",
       "    <tr>\n",
       "      <th>1</th>\n",
       "      <td>1</td>\n",
       "      <td>661</td>\n",
       "      <td>3</td>\n",
       "      <td>978302109</td>\n",
       "    </tr>\n",
       "    <tr>\n",
       "      <th>2</th>\n",
       "      <td>1</td>\n",
       "      <td>914</td>\n",
       "      <td>3</td>\n",
       "      <td>978301968</td>\n",
       "    </tr>\n",
       "    <tr>\n",
       "      <th>3</th>\n",
       "      <td>1</td>\n",
       "      <td>3408</td>\n",
       "      <td>4</td>\n",
       "      <td>978300275</td>\n",
       "    </tr>\n",
       "    <tr>\n",
       "      <th>4</th>\n",
       "      <td>1</td>\n",
       "      <td>2355</td>\n",
       "      <td>5</td>\n",
       "      <td>978824291</td>\n",
       "    </tr>\n",
       "  </tbody>\n",
       "</table>\n",
       "</div>"
      ],
      "text/plain": [
       "   user_id  movie_id  rating  timestamp\n",
       "0        1      1193       5  978300760\n",
       "1        1       661       3  978302109\n",
       "2        1       914       3  978301968\n",
       "3        1      3408       4  978300275\n",
       "4        1      2355       5  978824291"
      ]
     },
     "execution_count": 63,
     "metadata": {},
     "output_type": "execute_result"
    }
   ],
   "source": [
    "df_ratings = pd.read_csv('ml-1m/ratings.dat', sep=\"::\", header=None)\n",
    "#df_ratings.columns = \"UserID::MovieID::Rating::Timestamp\".split(\"::\") \n",
    "df_ratings.columns = ['user_id', 'movie_id', 'rating', 'timestamp']\n",
    "df_ratings.head()"
   ]
  },
  {
   "cell_type": "code",
   "execution_count": 64,
   "id": "d85360a2",
   "metadata": {},
   "outputs": [],
   "source": [
    "df_ratings.drop('timestamp', axis='columns', inplace=True)\n",
    "df_ratings.dropna(inplace=True)"
   ]
  },
  {
   "cell_type": "markdown",
   "id": "8bbe25f6",
   "metadata": {},
   "source": [
    "вот тут неочевидная херня с movie_num<br>\n",
    "movie_id - это айдишник, но некоторых не хватает, и поэтому последний (3900+) получается больше, чем длина матрицы (3700+), и чтобы херни не было, мы записываем в num айдишник айдишника"
   ]
  },
  {
   "cell_type": "code",
   "execution_count": 65,
   "id": "5f5f2fb1",
   "metadata": {},
   "outputs": [],
   "source": [
    "df_ratings['movie_num'] = df_ratings['movie_id'].astype(\"category\").cat.codes\n",
    "item_lookup = df_ratings[['movie_num', 'movie_id']].drop_duplicates()\n",
    "item_lookup['movie_num'] = item_lookup.movie_num.astype(str)"
   ]
  },
  {
   "cell_type": "code",
   "execution_count": 66,
   "id": "c6a96c80",
   "metadata": {},
   "outputs": [],
   "source": [
    "users = list(np.sort(df_ratings.user_id.unique()))\n",
    "movies = list(np.sort(df_ratings.movie_num.unique()))\n",
    "ratings = list(df_ratings.rating)"
   ]
  },
  {
   "cell_type": "code",
   "execution_count": 67,
   "id": "cb50194d",
   "metadata": {},
   "outputs": [],
   "source": [
    "rows = df_ratings.user_id.astype(int)\n",
    "cols = df_ratings.movie_num.astype(int)"
   ]
  },
  {
   "cell_type": "code",
   "execution_count": 68,
   "id": "e6847eac",
   "metadata": {},
   "outputs": [],
   "source": [
    "data_sparse = sparse.csr_matrix((ratings, (rows-1, cols)), shape=(len(users), len(movies)))"
   ]
  },
  {
   "cell_type": "code",
   "execution_count": 71,
   "id": "74ee922c",
   "metadata": {},
   "outputs": [
    {
     "name": "stderr",
     "output_type": "stream",
     "text": [
      "100%|██████████████████████████████████████████████████████████████████████████████████| 20/20 [17:10<00:00, 51.53s/it]\n"
     ]
    }
   ],
   "source": [
    "user_vecs, item_vecs = implicit_als(data_sparse, iterations=20, features=20, alpha_val=40)"
   ]
  },
  {
   "cell_type": "code",
   "execution_count": 72,
   "id": "419ae438",
   "metadata": {},
   "outputs": [
    {
     "data": {
      "text/plain": [
       "<6040x20 sparse matrix of type '<class 'numpy.float64'>'\n",
       "\twith 120800 stored elements in Compressed Sparse Row format>"
      ]
     },
     "execution_count": 72,
     "metadata": {},
     "output_type": "execute_result"
    }
   ],
   "source": [
    "user_vecs"
   ]
  },
  {
   "cell_type": "code",
   "execution_count": 73,
   "id": "ef2f47b4",
   "metadata": {},
   "outputs": [],
   "source": [
    "import json"
   ]
  },
  {
   "cell_type": "code",
   "execution_count": 78,
   "id": "3e0844a7",
   "metadata": {},
   "outputs": [],
   "source": [
    "sparse.save_npz('user_vecs.npz', user_vecs)\n",
    "sparse.save_npz('item_vecs.npz', item_vecs)\n",
    "# with open('item_vecs.json','w') as f:\n",
    "#     json.dump(item_vecs, f)"
   ]
  },
  {
   "cell_type": "code",
   "execution_count": 83,
   "id": "74808454",
   "metadata": {},
   "outputs": [
    {
     "name": "stdout",
     "output_type": "stream",
     "text": [
      "   movies     score\n",
      "0    2111  1.000000\n",
      "1    3536  0.975370\n",
      "2    2195  0.971656\n",
      "3    3189  0.966057\n",
      "4    1425  0.963888\n",
      "5    2978  0.960507\n",
      "6    1963  0.957773\n",
      "7    3326  0.954957\n",
      "8     449  0.951931\n",
      "9    2463  0.951266\n"
     ]
    }
   ],
   "source": [
    "def recommend(user_id, data_sparse, user_vecs, item_vecs, item_lookup, num_items=10):\n",
    "    \"\"\"Recommend items for a given user given a trained model\n",
    "    \n",
    "    Args:\n",
    "        user_id (int): The id of the user we want to create recommendations for.\n",
    "        \n",
    "        data_sparse (csr_matrix): Our original training data.\n",
    "        \n",
    "        user_vecs (csr_matrix): The trained user x features vectors\n",
    "        \n",
    "        item_vecs (csr_matrix): The trained item x features vectors\n",
    "        \n",
    "        item_lookup (pandas.DataFrame): Used to map artist ids to artist names\n",
    "        \n",
    "        num_items (int): How many recommendations we want to return:\n",
    "        \n",
    "    Returns:\n",
    "        recommendations (pandas.DataFrame): DataFrame with num_items artist names and scores\n",
    "    \n",
    "    \"\"\"\n",
    "  \n",
    "    # Get all interactions by the user\n",
    "    user_interactions = data_sparse[user_id,:].toarray()\n",
    "\n",
    "    # We don't want to recommend items the user has consumed. So let's\n",
    "    # set them all to 0 and the unknowns to 1.\n",
    "    user_interactions = user_interactions.reshape(-1) + 1 #Reshape to turn into 1D array\n",
    "    user_interactions[user_interactions > 1] = 0\n",
    "\n",
    "    # This is where we calculate the recommendation by taking the \n",
    "    # dot-product of the user vectors with the item vectors.\n",
    "    rec_vector = (user_vecs[user_id,:] @ item_vecs.T).toarray()\n",
    "\n",
    "    # Let's scale our scores between 0 and 1 to make it all easier to interpret.\n",
    "    min_max = MinMaxScaler()\n",
    "    rec_vector_scaled = min_max.fit_transform(rec_vector.reshape(-1, 1))[:,0]\n",
    "    recommend_vector = user_interactions  *rec_vector_scaled\n",
    "   \n",
    "    # Get all the artist indices in order of recommendations (descending) and\n",
    "    # select only the top \"num_items\" items. \n",
    "    item_idx = np.argsort(recommend_vector)[::-1][:num_items]\n",
    "\n",
    "    movies = []\n",
    "    scores = []\n",
    "\n",
    "    # Loop through our recommended artist indicies and look up the actial artist name\n",
    "    for idx in item_idx:\n",
    "        movies.append(item_lookup.movie_id.loc[item_lookup.movie_num == str(idx)].iloc[0])\n",
    "        scores.append(recommend_vector[idx])\n",
    "\n",
    "    # Create a new dataframe with recommended artist names and scores\n",
    "    recommendations = pd.DataFrame({'movies': movies, 'score': scores})\n",
    "    \n",
    "    return recommendations"
   ]
  },
  {
   "cell_type": "code",
   "execution_count": null,
   "id": "4d92c935",
   "metadata": {},
   "outputs": [],
   "source": [
    "# Let's generate and print our recommendations\n",
    "user_id = 2023\n",
    "recommendations = recommend(user_id, data_sparse, user_vecs, item_vecs, item_lookup)\n",
    "print(recommendations)"
   ]
  },
  {
   "cell_type": "code",
   "execution_count": 89,
   "id": "b51d56da",
   "metadata": {},
   "outputs": [
    {
     "data": {
      "text/html": [
       "<div>\n",
       "<style scoped>\n",
       "    .dataframe tbody tr th:only-of-type {\n",
       "        vertical-align: middle;\n",
       "    }\n",
       "\n",
       "    .dataframe tbody tr th {\n",
       "        vertical-align: top;\n",
       "    }\n",
       "\n",
       "    .dataframe thead th {\n",
       "        text-align: right;\n",
       "    }\n",
       "</style>\n",
       "<table border=\"1\" class=\"dataframe\">\n",
       "  <thead>\n",
       "    <tr style=\"text-align: right;\">\n",
       "      <th></th>\n",
       "      <th>user_id</th>\n",
       "      <th>movie_id</th>\n",
       "      <th>rating</th>\n",
       "      <th>movie_num</th>\n",
       "    </tr>\n",
       "  </thead>\n",
       "  <tbody>\n",
       "    <tr>\n",
       "      <th>344877</th>\n",
       "      <td>2023</td>\n",
       "      <td>1573</td>\n",
       "      <td>5</td>\n",
       "      <td>1445</td>\n",
       "    </tr>\n",
       "    <tr>\n",
       "      <th>344766</th>\n",
       "      <td>2023</td>\n",
       "      <td>1610</td>\n",
       "      <td>5</td>\n",
       "      <td>1478</td>\n",
       "    </tr>\n",
       "    <tr>\n",
       "      <th>344798</th>\n",
       "      <td>2023</td>\n",
       "      <td>231</td>\n",
       "      <td>5</td>\n",
       "      <td>224</td>\n",
       "    </tr>\n",
       "    <tr>\n",
       "      <th>344868</th>\n",
       "      <td>2023</td>\n",
       "      <td>3160</td>\n",
       "      <td>5</td>\n",
       "      <td>2944</td>\n",
       "    </tr>\n",
       "    <tr>\n",
       "      <th>344796</th>\n",
       "      <td>2023</td>\n",
       "      <td>223</td>\n",
       "      <td>5</td>\n",
       "      <td>216</td>\n",
       "    </tr>\n",
       "    <tr>\n",
       "      <th>344795</th>\n",
       "      <td>2023</td>\n",
       "      <td>3439</td>\n",
       "      <td>5</td>\n",
       "      <td>3207</td>\n",
       "    </tr>\n",
       "    <tr>\n",
       "      <th>344870</th>\n",
       "      <td>2023</td>\n",
       "      <td>1704</td>\n",
       "      <td>5</td>\n",
       "      <td>1563</td>\n",
       "    </tr>\n",
       "    <tr>\n",
       "      <th>344792</th>\n",
       "      <td>2023</td>\n",
       "      <td>3437</td>\n",
       "      <td>5</td>\n",
       "      <td>3205</td>\n",
       "    </tr>\n",
       "    <tr>\n",
       "      <th>344872</th>\n",
       "      <td>2023</td>\n",
       "      <td>3317</td>\n",
       "      <td>5</td>\n",
       "      <td>3091</td>\n",
       "    </tr>\n",
       "    <tr>\n",
       "      <th>344790</th>\n",
       "      <td>2023</td>\n",
       "      <td>1682</td>\n",
       "      <td>5</td>\n",
       "      <td>1545</td>\n",
       "    </tr>\n",
       "  </tbody>\n",
       "</table>\n",
       "</div>"
      ],
      "text/plain": [
       "        user_id  movie_id  rating  movie_num\n",
       "344877     2023      1573       5       1445\n",
       "344766     2023      1610       5       1478\n",
       "344798     2023       231       5        224\n",
       "344868     2023      3160       5       2944\n",
       "344796     2023       223       5        216\n",
       "344795     2023      3439       5       3207\n",
       "344870     2023      1704       5       1563\n",
       "344792     2023      3437       5       3205\n",
       "344872     2023      3317       5       3091\n",
       "344790     2023      1682       5       1545"
      ]
     },
     "execution_count": 89,
     "metadata": {},
     "output_type": "execute_result"
    }
   ],
   "source": [
    "df_ratings[df_ratings['user_id'] == 2023].sort_values('rating', ascending=False)[:10][]"
   ]
  },
  {
   "cell_type": "code",
   "execution_count": 95,
   "id": "d46e1506",
   "metadata": {},
   "outputs": [
    {
     "data": {
      "text/html": [
       "<div>\n",
       "<style scoped>\n",
       "    .dataframe tbody tr th:only-of-type {\n",
       "        vertical-align: middle;\n",
       "    }\n",
       "\n",
       "    .dataframe tbody tr th {\n",
       "        vertical-align: top;\n",
       "    }\n",
       "\n",
       "    .dataframe thead th {\n",
       "        text-align: right;\n",
       "    }\n",
       "</style>\n",
       "<table border=\"1\" class=\"dataframe\">\n",
       "  <thead>\n",
       "    <tr style=\"text-align: right;\">\n",
       "      <th></th>\n",
       "      <th>movies</th>\n",
       "      <th>score</th>\n",
       "      <th>rating</th>\n",
       "    </tr>\n",
       "  </thead>\n",
       "  <tbody>\n",
       "    <tr>\n",
       "      <th>0</th>\n",
       "      <td>2111</td>\n",
       "      <td>1.000000</td>\n",
       "      <td>5.000000</td>\n",
       "    </tr>\n",
       "    <tr>\n",
       "      <th>1</th>\n",
       "      <td>3536</td>\n",
       "      <td>0.975370</td>\n",
       "      <td>4.876850</td>\n",
       "    </tr>\n",
       "    <tr>\n",
       "      <th>2</th>\n",
       "      <td>2195</td>\n",
       "      <td>0.971656</td>\n",
       "      <td>4.858281</td>\n",
       "    </tr>\n",
       "    <tr>\n",
       "      <th>3</th>\n",
       "      <td>3189</td>\n",
       "      <td>0.966057</td>\n",
       "      <td>4.830285</td>\n",
       "    </tr>\n",
       "    <tr>\n",
       "      <th>4</th>\n",
       "      <td>1425</td>\n",
       "      <td>0.963888</td>\n",
       "      <td>4.819438</td>\n",
       "    </tr>\n",
       "  </tbody>\n",
       "</table>\n",
       "</div>"
      ],
      "text/plain": [
       "   movies     score    rating\n",
       "0    2111  1.000000  5.000000\n",
       "1    3536  0.975370  4.876850\n",
       "2    2195  0.971656  4.858281\n",
       "3    3189  0.966057  4.830285\n",
       "4    1425  0.963888  4.819438"
      ]
     },
     "execution_count": 95,
     "metadata": {},
     "output_type": "execute_result"
    }
   ],
   "source": [
    "recommendations['rating'] = recommendations['score'] * 5\n",
    "recommendations.head()"
   ]
  },
  {
   "cell_type": "code",
   "execution_count": 105,
   "id": "7179026b",
   "metadata": {},
   "outputs": [
    {
     "data": {
      "text/plain": [
       "0.17329775129668928"
      ]
     },
     "execution_count": 105,
     "metadata": {},
     "output_type": "execute_result"
    }
   ],
   "source": [
    "from sklearn.metrics import mean_absolute_error as mae\n",
    "from sklearn.metrics import mean_squared_error as mse\n",
    "\n",
    "mae([5]*10, recommendations.rating)"
   ]
  },
  {
   "cell_type": "code",
   "execution_count": 121,
   "id": "5dc3746c",
   "metadata": {},
   "outputs": [],
   "source": [
    "def test_for_user(user_id, item_num, err_function):\n",
    "    \"\"\"\n",
    "    Estimate ALS accuracy\n",
    "    \n",
    "    Args:\n",
    "        user_id (int) - user to predict movies to\n",
    "        item_num(int) - number of items to predict\n",
    "        err_function(function(list, list)->float) - a function to count an error, MAE, MSE, anything you like\n",
    "    \n",
    "    Returns: \n",
    "        mae error for als predictions\n",
    "        length intersection of sets of movies user liked the most and the predicted ones\n",
    "    \"\"\"\n",
    "    \n",
    "    recommendations = recommend(user_id, data_sparse, user_vecs, item_vecs, item_lookup, num_items=item_num)\n",
    "    recommendations['rating'] = recommendations['score'] * 5\n",
    "    y_true = df_ratings[df_ratings['user_id'] == 2023].sort_values('rating', ascending=False)[:item_num]\n",
    "    \n",
    "    \n",
    "    \n",
    "    return [err_function(y_true['rating'], recommendations.rating), \\\n",
    "        len(set(y_true['movie_id']).intersection(recommendations['movies']))]"
   ]
  },
  {
   "cell_type": "code",
   "execution_count": 125,
   "id": "c4789f00",
   "metadata": {},
   "outputs": [
    {
     "data": {
      "text/plain": [
       "[0.08831605228206749, 32]"
      ]
     },
     "execution_count": 125,
     "metadata": {},
     "output_type": "execute_result"
    }
   ],
   "source": [
    "test_for_user(1517, 100, mse)"
   ]
  },
  {
   "cell_type": "code",
   "execution_count": 126,
   "id": "333836d2",
   "metadata": {},
   "outputs": [
    {
     "name": "stdout",
     "output_type": "stream",
     "text": [
      "[2610, 3972, 4797, 3418, 2625, 1398, 4132, 1680, 4344, 5075]\n"
     ]
    }
   ],
   "source": [
    "rand_users = random.sample(range(df_ratings.user_id.max()), 10)\n",
    "print(rand_users)"
   ]
  },
  {
   "cell_type": "code",
   "execution_count": 139,
   "id": "1093a66c",
   "metadata": {},
   "outputs": [
    {
     "name": "stdout",
     "output_type": "stream",
     "text": [
      "average err: 0.45542303278359625\n",
      "average hits per 250: 70.5\n"
     ]
    }
   ],
   "source": [
    "scores = []\n",
    "for u in rand_users:\n",
    "    scores.append(test_for_user(u, 250, mse))\n",
    "scores\n",
    "print('average err:', np.mean([s[0] for s in scores]))\n",
    "print('average hits per 250:', np.mean([s[1] for s in scores]))"
   ]
  },
  {
   "cell_type": "code",
   "execution_count": 140,
   "id": "a5a794e7",
   "metadata": {},
   "outputs": [
    {
     "data": {
      "text/plain": [
       "28.2"
      ]
     },
     "execution_count": 140,
     "metadata": {},
     "output_type": "execute_result"
    }
   ],
   "source": [
    "70.5*100/250"
   ]
  },
  {
   "cell_type": "code",
   "execution_count": null,
   "id": "b4a94aeb",
   "metadata": {},
   "outputs": [],
   "source": [
    "percent of hits"
   ]
  }
 ],
 "metadata": {
  "kernelspec": {
   "display_name": "Python 3 (ipykernel)",
   "language": "python",
   "name": "python3"
  },
  "language_info": {
   "codemirror_mode": {
    "name": "ipython",
    "version": 3
   },
   "file_extension": ".py",
   "mimetype": "text/x-python",
   "name": "python",
   "nbconvert_exporter": "python",
   "pygments_lexer": "ipython3",
   "version": "3.8.3"
  }
 },
 "nbformat": 4,
 "nbformat_minor": 5
}
